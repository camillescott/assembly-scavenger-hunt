{
 "metadata": {
  "name": "stamps13 scavenger hunt"
 },
 "nbformat": 3,
 "nbformat_minor": 0,
 "worksheets": [
  {
   "cells": [
    {
     "cell_type": "code",
     "collapsed": false,
     "input": [
      "import screed"
     ],
     "language": "python",
     "metadata": {},
     "outputs": [],
     "prompt_number": 15
    },
    {
     "cell_type": "code",
     "collapsed": false,
     "input": [
      "message = '''This is a test message to make reads from'''\n",
      "with open('message.txt', 'wb') as outfp:\n",
      "    outfp.write(message)"
     ],
     "language": "python",
     "metadata": {},
     "outputs": [],
     "prompt_number": 11
    },
    {
     "cell_type": "code",
     "collapsed": false,
     "input": [
      "def random_seq(length):\n",
      "    import random\n",
      "    random.seed(1)\n",
      "\n",
      "    x = [\"A\"] + [\"G\"] + [\"C\"] + [\"T\"]\n",
      "    x = x*length\n",
      "    random.shuffle(x)\n",
      "    x = \"\".join(x)\n",
      "\n",
      "    return x"
     ],
     "language": "python",
     "metadata": {},
     "outputs": [],
     "prompt_number": 7
    },
    {
     "cell_type": "code",
     "collapsed": false,
     "input": [
      "!perl text2dna_spaces.pl < message.txt > message.fa\n",
      "with open('message_reads.fa', 'wb') as outfp:\n",
      "    for record in screed.open('message.fa'):\n",
      "        outfp.write('>{} {}\\n{}\\n'.format(record.name, 2, record.sequence))"
     ],
     "language": "python",
     "metadata": {},
     "outputs": [],
     "prompt_number": 17
    },
    {
     "cell_type": "code",
     "collapsed": false,
     "input": [
      "!python make-biased-reads.py message_reads.fa 1000 20 | head -100000 > reads.fa"
     ],
     "language": "python",
     "metadata": {},
     "outputs": [
      {
       "output_type": "stream",
       "stream": "stdout",
       "text": [
        "[(1000, 0)]\r\n",
        "625 of 1000 reads mutated; 1026 total mutations\r\n"
       ]
      }
     ],
     "prompt_number": 18
    },
    {
     "cell_type": "code",
     "collapsed": false,
     "input": [],
     "language": "python",
     "metadata": {},
     "outputs": []
    }
   ],
   "metadata": {}
  }
 ]
}